{
 "cells": [
  {
   "cell_type": "code",
   "execution_count": 39,
   "metadata": {},
   "outputs": [],
   "source": [
    "import pandas as pd\n",
    "import numpy as np\n",
    "import glob\n",
    "import os\n",
    "import xgboost as xgb\n",
    "from xgboost.sklearn import XGBRegressor\n",
    "from sklearn.model_selection import train_test_split\n",
    "from sklearn.metrics import mean_squared_error\n",
    "from sklearn.metrics import r2_score\n",
    "from math import sqrt\n",
    "import warnings\n",
    "warnings.simplefilter(action='ignore', category=FutureWarning)\n",
    "pd.options.mode.chained_assignment = None"
   ]
  },
  {
   "cell_type": "code",
   "execution_count": 2,
   "metadata": {},
   "outputs": [],
   "source": [
    "# load excel 2001-2010 (10 years)\n",
    "files = glob.glob(\"S:/Tmp/Data Science/CDC Survey/Data/CDC_CodeCombined/codecombined10years/*.xlsx\")\n",
    "org10years_dict = {}\n",
    "for f in files:\n",
    "    org10years_dict[os.path.splitext(os.path.basename(f))[0].split('_')[-1]] = pd.read_excel(f)\n"
   ]
  },
  {
   "cell_type": "code",
   "execution_count": null,
   "metadata": {},
   "outputs": [],
   "source": [
    "# to improve I/O, dump dict to json - test\n",
    "# improving training efficiency, dump model"
   ]
  },
  {
   "cell_type": "code",
   "execution_count": 3,
   "metadata": {},
   "outputs": [
    {
     "name": "stdout",
     "output_type": "stream",
     "text": [
      "2005 (375373, 23)\n",
      "2006 (376328, 23)\n",
      "2007 (365648, 23)\n",
      "2008 (165630, 24)\n",
      "2009 (162151, 24)\n",
      "2010 (151551, 24)\n",
      "2001 (330210, 23)\n",
      "2002 (327255, 23)\n",
      "2003 (319530, 23)\n",
      "2004 (370785, 23)\n"
     ]
    }
   ],
   "source": [
    "year_list = list(org10years_dict.keys())\n",
    "for x in year_list:\n",
    "    print(x, org10years_dict[x].shape)"
   ]
  },
  {
   "cell_type": "code",
   "execution_count": 28,
   "metadata": {},
   "outputs": [],
   "source": [
    "# selected columns\n",
    "select_col = ['newborn_status', 'sex', 'race', 'unit_age', 'age', 'type_admission', 'diagnosis_combine', 'days_of_care']\n",
    "cate_col = ['newborn_status', 'sex', 'race', 'type_admission']\n",
    "int_col = ['age']\n",
    "code_disease = {'25000': 'Diabetes mellitus', '2724': 'Hyperlipidemia', '3051': 'Tobacco use disorder',\n",
    "                '4019': 'Hypertension', '41401': 'Coronary atherosclerosis', '42731': 'Atrial fibrillation',\n",
    "                '4280': 'Congestive heart failure', '53081': 'Esophageal reflux', '5990':'Urinary tract infection',\n",
    "                'V270': 'Deliver single liveborn', 'V3000': 'Single liveborn delivered without cesarean section'}\n",
    "diseasepool = list(code_disease.keys()) # 11 selected"
   ]
  },
  {
   "cell_type": "code",
   "execution_count": 29,
   "metadata": {},
   "outputs": [],
   "source": [
    "def select_trainingset(df_dict, disease_list, selcol_list, diagcol_name):\n",
    "    \"\"\"\n",
    "    input: disease_list, contains one or multiple diagnosis codes, input from dashboard\n",
    "    output: concated df for preprocessing\n",
    "    \"\"\"\n",
    "    key_list = list(df_dict.keys())\n",
    "    result_df = pd.DataFrame()\n",
    "    \n",
    "    for x in key_list:        \n",
    "        selcol_df = df_dict[x][selcol_list] # select training columns\n",
    "        diseasecol_list = selcol_df[diagcol_name].str.split('|').tolist()\n",
    "        bool_list = [all(elem in e for elem in disease_list) for e in diseasecol_list]\n",
    "        sub_df = selcol_df[bool_list].reset_index(drop=True)\n",
    "        result_df = pd.concat([result_df, sub_df], axis=0).reset_index(drop=True)\n",
    "    \n",
    "    \n",
    "    \n",
    "    return result_df"
   ]
  },
  {
   "cell_type": "code",
   "execution_count": 30,
   "metadata": {},
   "outputs": [],
   "source": [
    "# udf age preprocess\n",
    "def age_preprocess(df_select):\n",
    "    df_age = df_select.copy()\n",
    "    df_age[['age','unit_age']] = df_age[['age','unit_age']].astype(int)\n",
    "    df_age.loc[df_age['unit_age'] != 1, 'age'] = 0\n",
    "    df_ageresult = df_age.drop(['unit_age'], axis=1)\n",
    "    \n",
    "    return df_ageresult"
   ]
  },
  {
   "cell_type": "code",
   "execution_count": 37,
   "metadata": {},
   "outputs": [],
   "source": [
    "# udf astype(pre_define), drop,dummy\n",
    "def training_preprocess(df, diseasepool, dummy_col, number_col, diagcol_name, ycolname):\n",
    "    \"\"\"\n",
    "    ignore disease out of pool\n",
    "    output: X(features with dummy 0/1 plus int cols) and y\n",
    "            component: selected diseases matrix \n",
    "    \"\"\"\n",
    "    df_preprocess = df.reset_index(drop=True) # reset index\n",
    "    \n",
    "    diag_df = pd.DataFrame()\n",
    "    # diagnosis column\n",
    "    df_preprocess[diagcol_name] = df_preprocess[diagcol_name].str.strip()\n",
    "    \n",
    "    boolmap_dict = {'True': 1, 'False': 0}\n",
    "    for x in diseasepool:\n",
    "        bool_list = [x in code_list for code_list in df_preprocess[diagcol_name].str.split('|').tolist()]\n",
    "        subdiagcol_name = 'diagnosis' + x\n",
    "        \n",
    "        diag_df[subdiagcol_name] = pd.Series(bool_list).map(boolmap_dict)\n",
    "    \n",
    "    # change type, create dummy\n",
    "    df_preprocess[dummy_col] = df_preprocess[dummy_col].astype(str)\n",
    "    df_dummy = pd.get_dummies(df_preprocess[dummy_col], prefix=dummy_col)\n",
    "    ### get complete dummy columns for each level [TODO]\n",
    "    ### better: get choices level available\n",
    "    \n",
    "    # int columns\n",
    "    df_preprocess[number_col] = df_preprocess[number_col].astype(int)\n",
    "    \n",
    "    # concat\n",
    "    df_feature = pd.concat([df_dummy, df_preprocess[number_col], diag_df], axis =1)\n",
    "    \n",
    "    target = df_preprocess[ycolname].reset_index(drop=True)\n",
    "    \n",
    "    return df_feature, target"
   ]
  },
  {
   "cell_type": "code",
   "execution_count": null,
   "metadata": {},
   "outputs": [],
   "source": [
    "# udf prepare the testing case\n",
    "# get input value from dashboard in format of dictionary\n",
    "# def testing_case(input_dict)"
   ]
  },
  {
   "cell_type": "code",
   "execution_count": 53,
   "metadata": {},
   "outputs": [],
   "source": [
    "# udf modeling\n",
    "def modeling(feature, target):\n",
    "    \"\"\"\n",
    "    output: prediction(take an average), error estimation\n",
    "    \"\"\"\n",
    "    X_train, X_test, y_train, y_test = train_test_split(feature, target, test_size=0.3, random_state=11217)\n",
    "    \n",
    "    xgb_param = {'n_estimators': 200, 'eta': 0.1, 'max_depth': 3, 'verbose': -1, 'silent': True}\n",
    "    regxgb = xgb.XGBRegressor(**xgb_param)\n",
    "    regxgb.fit(X_train, y_train, eval_metric='rmse')\n",
    "    \n",
    "    predxgb = regxgb.predict(X_test)\n",
    "    pred_table = pd.DataFrame({'y_true': y_test, 'y_predicted': predxgb}).reset_index(drop=True)\n",
    "    result_avg = round(predxgb.mean(),2)\n",
    "    rmse = round(sqrt(mean_squared_error(y_test, predxgb)),4)\n",
    "\n",
    "    return pred_table, result_avg, rmse"
   ]
  },
  {
   "cell_type": "code",
   "execution_count": 54,
   "metadata": {},
   "outputs": [],
   "source": [
    "# udf wrap function \n",
    "def wrap_function(df_dict, disease_list, selcol_list, diseasepool, dummy_col, number_col, diagcol_name = 'diagnosis_combine', ycolname = 'days_of_care'):\n",
    "    \"\"\"\n",
    "    input: disease_list, selected combination;\n",
    "           diseasepool, top 10/11\n",
    "    \n",
    "    \"\"\"\n",
    "    \n",
    "    df_seresult = select_trainingset(df_dict, disease_list, selcol_list, diagcol_name)\n",
    "    df_afterage = age_preprocess(df_seresult)\n",
    "    df_feature, target = training_preprocess(df_afterage, diseasepool, dummy_col, number_col, diagcol_name, ycolname)\n",
    "    pred_table, result_avg, rmse = modeling(df_feature, target)\n",
    "    \n",
    "    return pred_table, result_avg, rmse"
   ]
  },
  {
   "cell_type": "code",
   "execution_count": 58,
   "metadata": {},
   "outputs": [],
   "source": [
    "# udf wrap function \n",
    "def wrap_functionv2(disease_list):\n",
    "    \"\"\"\n",
    "    input: disease_list, selected combination;\n",
    "           diseasepool, top 10/11\n",
    "    \n",
    "    \"\"\"\n",
    "    \n",
    "    df_seresult = select_trainingset(org10years_dict, disease_list, select_col, 'diagnosis_combine')\n",
    "    df_afterage = age_preprocess(df_seresult)\n",
    "    df_feature, target = training_preprocess(df_afterage, diseasepool, cate_col, int_col, 'diagnosis_combine', 'days_of_care')\n",
    "    pred_table, result_avg, rmse = modeling(df_feature, target)\n",
    "    \n",
    "    return pred_table, result_avg, rmse"
   ]
  },
  {
   "cell_type": "code",
   "execution_count": 72,
   "metadata": {},
   "outputs": [],
   "source": [
    "def wrap_functionv3(b):\n",
    "    \"\"\"\n",
    "    input: disease_list, selected combination;\n",
    "           diseasepool, top 10/11\n",
    "    \n",
    "    \"\"\"\n",
    "    disease_list = selected_data\n",
    "    \n",
    "    df_seresult = select_trainingset(org10years_dict, disease_list, select_col, 'diagnosis_combine')\n",
    "    df_afterage = age_preprocess(df_seresult)\n",
    "    df_feature, target = training_preprocess(df_afterage, diseasepool, cate_col, int_col, 'diagnosis_combine', 'days_of_care')\n",
    "    pred_table, result_avg, rmse = modeling(df_feature, target)\n",
    "    print(result_avg, rmse)\n",
    "    #return pred_table, result_avg, rmse"
   ]
  },
  {
   "cell_type": "code",
   "execution_count": null,
   "metadata": {},
   "outputs": [],
   "source": []
  },
  {
   "cell_type": "code",
   "execution_count": 63,
   "metadata": {},
   "outputs": [],
   "source": [
    "import ipywidgets as widgets\n",
    "from ipywidgets import interact, interact_manual\n",
    "from IPython.display import display, HTML, clear_output\n",
    "from ipywidgets import HBox, VBox\n",
    "from ipywidgets import Layout, Box\n",
    "from IPython.display import display"
   ]
  },
  {
   "cell_type": "code",
   "execution_count": 73,
   "metadata": {},
   "outputs": [],
   "source": [
    "def display_titles():\n",
    "    display(form)\n",
    "    display(out)\n",
    "    b1.on_click(wrap_functionv3)"
   ]
  },
  {
   "cell_type": "code",
   "execution_count": 74,
   "metadata": {},
   "outputs": [
    {
     "data": {
      "application/vnd.jupyter.widget-view+json": {
       "model_id": "bb8207e1aabd40d69de2de07ebf32986",
       "version_major": 2,
       "version_minor": 0
      },
      "text/plain": [
       "Box(children=(Box(children=(Label(value='\\\\(\\\\color{maroon} {INPUT}\\\\)'),), layout=Layout(display='flex', flex…"
      ]
     },
     "metadata": {},
     "output_type": "display_data"
    },
    {
     "data": {
      "application/vnd.jupyter.widget-view+json": {
       "model_id": "153b6564e5314c24a628400820c49792",
       "version_major": 2,
       "version_minor": 0
      },
      "text/plain": [
       "Output()"
      ]
     },
     "metadata": {},
     "output_type": "display_data"
    },
    {
     "name": "stdout",
     "output_type": "stream",
     "text": [
      "3.67 3.8809\n"
     ]
    }
   ],
   "source": [
    "data = {'25000 - Diabetes mellitus': 'Diabetes mellitus', '2724 - Hyperlipidemia': 'Hyperlipidemia', '3051 - Tobacco use disorder': 'Tobacco use disorder',\n",
    "  '4019 - Hypertension': 'Hypertension', '41401 - Coronary atherosclerosis': 'Coronary atherosclerosis', '42731 - Atrial fibrillation': 'Atrial fibrillation',\n",
    "  '4280 - Congestive Heart Failure': 'Congestive heart failure', '53081 - Esophageal reflux': 'Esophageal reflux', '5990 - Urinary tract infection':'Urinary tract infection',\n",
    "  'V270 - Deliver single liveborn': 'Deliver single liveborn', 'V3000 - Single liveborn delivered without cesarean section': 'Single liveborn delivered without cesarean section'}\n",
    "names = []\n",
    "checkbox_objects = []\n",
    "for key in data:\n",
    "    checkbox_objects.append(widgets.Checkbox(value=False, description=key))\n",
    "    names.append(key[:5].strip())\n",
    "\n",
    "arg_dict = {names[i]: checkbox for i, checkbox in enumerate(checkbox_objects)}\n",
    "\n",
    "\n",
    "\n",
    "\n",
    "b1 = widgets.Button(description ='Run the Model',button_style='success',icon = 'font-awesome')\n",
    "form_item_layout = Layout(display='flex', flex_flow='column',justify_content='space-between')\n",
    "btns2 = [b1]\n",
    "t1 = widgets.Label(value =r'\\(\\color{maroon} {'+'INPUT'+'}\\)')\n",
    "txt1 = [t1]\n",
    "t2 = widgets.Label(value =r'\\(\\color{maroon} {'+'OUTPUT'+'}\\)')\n",
    "txt2 = [t2]\n",
    "form_items = [\n",
    "    Box(children=txt1, layout=form_item_layout),\n",
    "    Box(children=checkbox_objects, layout=form_item_layout),\n",
    "    Box(children=txt2, layout=form_item_layout),\n",
    "    Box(children=btns2, layout=form_item_layout)\n",
    "]\n",
    "form = Box(form_items, layout=Layout(\n",
    "    display='flex',\n",
    "    flex_flow='column',\n",
    "    border='solid 2px',\n",
    "    align_items='stretch',\n",
    "    width='50%'\n",
    "))\n",
    "selected_data = []\n",
    "def select_data(**kwargs):\n",
    "    selected_data.clear()\n",
    "\n",
    "    for key in kwargs:\n",
    "        if kwargs[key] is True:\n",
    "            selected_data.append(key)\n",
    "\n",
    "    print(selected_data)\n",
    "\n",
    "out = widgets.interactive_output(select_data, arg_dict)\n",
    "disease_list = out\n",
    "display_titles()"
   ]
  },
  {
   "cell_type": "code",
   "execution_count": null,
   "metadata": {},
   "outputs": [],
   "source": []
  },
  {
   "cell_type": "code",
   "execution_count": null,
   "metadata": {},
   "outputs": [],
   "source": []
  }
 ],
 "metadata": {
  "kernelspec": {
   "display_name": "Python 3",
   "language": "python",
   "name": "python3"
  },
  "language_info": {
   "codemirror_mode": {
    "name": "ipython",
    "version": 3
   },
   "file_extension": ".py",
   "mimetype": "text/x-python",
   "name": "python",
   "nbconvert_exporter": "python",
   "pygments_lexer": "ipython3",
   "version": "3.7.3"
  }
 },
 "nbformat": 4,
 "nbformat_minor": 2
}
